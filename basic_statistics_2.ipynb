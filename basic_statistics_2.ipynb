{
 "cells": [
  {
   "cell_type": "code",
   "execution_count": 1,
   "id": "1dfae287-d2fc-43d0-ae59-3368a03003c4",
   "metadata": {},
   "outputs": [
    {
     "data": {
      "text/plain": [
       "(1.2386666666666666,\n",
       " 0.19316412956959936,\n",
       " (1.090197338451367, 1.3871359948819662),\n",
       " (1.1056514133957607, 1.3716819199375725))"
      ]
     },
     "execution_count": 1,
     "metadata": {},
     "output_type": "execute_result"
    }
   ],
   "source": [
    "import numpy as np\n",
    "from scipy.stats import t, norm\n",
    "\n",
    "# Data provided\n",
    "durability_data = np.array([1.13, 1.55, 1.43, 0.92, 1.25, 1.36, 1.32, 0.85, \n",
    "                            1.07, 1.48, 1.20, 1.33, 1.18, 1.22, 1.29])\n",
    "\n",
    "# Sample mean and sample standard deviation\n",
    "sample_mean = np.mean(durability_data)\n",
    "sample_std = np.std(durability_data, ddof=1)  # Sample standard deviation with Bessel's correction\n",
    "n = len(durability_data)\n",
    "\n",
    "# Part (a): 99% Confidence Interval using Sample Standard Deviation\n",
    "confidence_level = 0.99\n",
    "alpha = 1 - confidence_level\n",
    "df = n - 1  # degrees of freedom for t-distribution\n",
    "t_critical = t.ppf(1 - alpha / 2, df)\n",
    "\n",
    "# Margin of error using t-distribution\n",
    "margin_of_error_t = t_critical * (sample_std / np.sqrt(n))\n",
    "ci_t = (sample_mean - margin_of_error_t, sample_mean + margin_of_error_t)\n",
    "\n",
    "# Part (b): 99% Confidence Interval using Known Population Standard Deviation (σ = 0.2)\n",
    "population_std = 0.2\n",
    "z_critical = norm.ppf(1 - alpha / 2)\n",
    "\n",
    "# Margin of error using z-distribution\n",
    "margin_of_error_z = z_critical * (population_std / np.sqrt(n))\n",
    "ci_z = (sample_mean - margin_of_error_z, sample_mean + margin_of_error_z)\n",
    "\n",
    "sample_mean, sample_std, ci_t, ci_z\n"
   ]
  },
  {
   "cell_type": "code",
   "execution_count": null,
   "id": "e0cf26e2-713f-4a61-8a37-b27ea041c245",
   "metadata": {},
   "outputs": [],
   "source": []
  }
 ],
 "metadata": {
  "kernelspec": {
   "display_name": "Python 3 (ipykernel)",
   "language": "python",
   "name": "python3"
  },
  "language_info": {
   "codemirror_mode": {
    "name": "ipython",
    "version": 3
   },
   "file_extension": ".py",
   "mimetype": "text/x-python",
   "name": "python",
   "nbconvert_exporter": "python",
   "pygments_lexer": "ipython3",
   "version": "3.11.7"
  }
 },
 "nbformat": 4,
 "nbformat_minor": 5
}
