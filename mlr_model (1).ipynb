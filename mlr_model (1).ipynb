{
 "cells": [
  {
   "cell_type": "code",
   "execution_count": null,
   "id": "6a53cf86-8b7d-4ca3-b7a7-1204558491f1",
   "metadata": {},
   "outputs": [],
   "source": [
    "import pandas as pd\n",
    "import numpy as np\n",
    "import matplotlib.pyplot as plt\n",
    "import seaborn as sns"
   ]
  },
  {
   "cell_type": "code",
   "execution_count": null,
   "id": "71fe08c2-1c60-40f7-a637-dc4a902aaeed",
   "metadata": {},
   "outputs": [],
   "source": [
    "df = pd.read_csv(r\"C:\\Users\\hp\\OneDrive\\ToyotaCorolla - MLR.csv\")\n"
   ]
  },
  {
   "cell_type": "code",
   "execution_count": null,
   "id": "1689d4ce-5bd3-4f09-b9a8-e91d684c2080",
   "metadata": {},
   "outputs": [],
   "source": [
    "df.head()\n"
   ]
  },
  {
   "cell_type": "code",
   "execution_count": null,
   "id": "db0a55b4-68ce-4dc8-96b6-b8e27d96dad1",
   "metadata": {},
   "outputs": [],
   "source": [
    "df.tail()"
   ]
  },
  {
   "cell_type": "code",
   "execution_count": null,
   "id": "87f3d563-649c-4a2c-b84e-5e610ae4a97c",
   "metadata": {},
   "outputs": [],
   "source": [
    "df.info()"
   ]
  },
  {
   "cell_type": "code",
   "execution_count": null,
   "id": "afb32af7-3623-4ea2-830e-0195e4a9f8d1",
   "metadata": {},
   "outputs": [],
   "source": [
    "df.describe()"
   ]
  },
  {
   "cell_type": "code",
   "execution_count": null,
   "id": "1b2e4fb1-dac9-468d-be81-14ea5b1557c5",
   "metadata": {},
   "outputs": [],
   "source": [
    "plt.boxplot(df[['Price','Age_08_04','KM','HP','cc','Doors','Cylinders','Gears','Weight']])"
   ]
  },
  {
   "cell_type": "code",
   "execution_count": null,
   "id": "a4a4d1b3-332c-4ed6-bab6-437bc45a388b",
   "metadata": {},
   "outputs": [],
   "source": [
    "box = plt.boxplot(df['KM'])\n",
    "box.items()"
   ]
  },
  {
   "cell_type": "code",
   "execution_count": null,
   "id": "6b1660fa-9999-4f22-ab88-ca8df84c91a0",
   "metadata": {},
   "outputs": [],
   "source": [
    "for i,j in box.items():\n",
    "    print(i,j)"
   ]
  },
  {
   "cell_type": "code",
   "execution_count": null,
   "id": "f677d328-9191-42f8-90ee-089500c91ba5",
   "metadata": {},
   "outputs": [],
   "source": [
    "out = []\n",
    "for items in box['fliers']:\n",
    "    out.append(items.get_ydata())\n",
    "\n",
    "out"
   ]
  },
  {
   "cell_type": "code",
   "execution_count": null,
   "id": "f5dca857-8bed-4153-ae8e-f85b973d54c1",
   "metadata": {},
   "outputs": [],
   "source": [
    "plt.figure(figsize=(10, 5))\n",
    "\n",
    "# Price vs Age\n",
    "plt.subplot(1, 2, 1)\n",
    "sns.scatterplot(x='Age_08_04', y='Price', data=df)\n",
    "plt.title('Price vs Age')\n",
    "\n",
    "# Price vs KM\n",
    "plt.subplot(1, 2, 2)\n",
    "sns.scatterplot(x='KM', y='Price', data=df)\n",
    "plt.title('Price vs KM')\n",
    "\n",
    "plt.tight_layout()\n",
    "plt.show()"
   ]
  },
  {
   "cell_type": "code",
   "execution_count": null,
   "id": "81512186-4d36-470b-b7b5-0a035d9c5814",
   "metadata": {},
   "outputs": [],
   "source": [
    "fuel_type_mapping = {'Petrol': 0, 'Diesel': 1, 'CNG': 2}\n",
    "\n",
    "# Apply the mapping\n",
    "df['Fuel_Type_encoded'] = df['Fuel_Type'].map(fuel_type_mapping)\n",
    "\n",
    "# Display the DataFrame with the new encoded column\n",
    "print(df[['Fuel_Type', 'Fuel_Type_encoded']].head())"
   ]
  },
  {
   "cell_type": "code",
   "execution_count": null,
   "id": "0e8fdb90-17c3-4c75-9ac2-2ce6c05993bf",
   "metadata": {},
   "outputs": [],
   "source": [
    "df"
   ]
  },
  {
   "cell_type": "code",
   "execution_count": null,
   "id": "bc36f526-80d0-470b-9b46-fb25e0dab875",
   "metadata": {},
   "outputs": [],
   "source": [
    "df.drop(['Fuel_Type'],axis = 1,inplace = True)"
   ]
  },
  {
   "cell_type": "code",
   "execution_count": null,
   "id": "aa82bc98-2ce7-42af-8a5d-86f4e3c8af03",
   "metadata": {},
   "outputs": [],
   "source": [
    "df"
   ]
  },
  {
   "cell_type": "code",
   "execution_count": null,
   "id": "3d97133e-bc85-4a05-abe3-023535f4398a",
   "metadata": {},
   "outputs": [],
   "source": [
    "df.corr()"
   ]
  },
  {
   "cell_type": "code",
   "execution_count": null,
   "id": "1241278f-6662-4c8f-82b3-7401896c91b7",
   "metadata": {},
   "outputs": [],
   "source": [
    "df['KM'].skew()"
   ]
  },
  {
   "cell_type": "code",
   "execution_count": null,
   "id": "384e2a85-7d46-4d9d-b968-5d230c8e316c",
   "metadata": {},
   "outputs": [],
   "source": [
    "sns.kdeplot(df[['KM','Price']])"
   ]
  },
  {
   "cell_type": "code",
   "execution_count": null,
   "id": "ad4f4eef-6f89-4fa5-8053-7a27d2be8c5f",
   "metadata": {},
   "outputs": [],
   "source": [
    "from sklearn.preprocessing import MinMaxScaler\n",
    "from sklearn.preprocessing import StandardScaler"
   ]
  },
  {
   "cell_type": "code",
   "execution_count": null,
   "id": "3e79b112-777a-4511-8687-b5cca279f572",
   "metadata": {},
   "outputs": [],
   "source": [
    "scaler = MinMaxScaler()\n",
    "normalized_df = scaler.fit_transform(df)\n",
    "print(normalized_df)"
   ]
  },
  {
   "cell_type": "code",
   "execution_count": null,
   "id": "274fb6f3-b0e7-466d-8d61-8f93d84c1d56",
   "metadata": {},
   "outputs": [],
   "source": [
    "sns.kdeplot(df['Price'])"
   ]
  },
  {
   "cell_type": "code",
   "execution_count": null,
   "id": "ca8ad18f-474c-4af1-927b-b9fe1ad1332b",
   "metadata": {},
   "outputs": [],
   "source": [
    "sns.kdeplot(df['Fuel_Type_encoded'])"
   ]
  },
  {
   "cell_type": "code",
   "execution_count": null,
   "id": "0274b008-427a-47ed-a356-a2d305ac3a92",
   "metadata": {},
   "outputs": [],
   "source": [
    "# Select numerical features for analysis (excluding Price)\n",
    "numerical_features = df.select_dtypes(include=['int64', 'float64']).columns.drop('Price')\n",
    "\n",
    "# Plot scatter plots for each numerical feature against Price\n",
    "plt.figure(figsize=(20, 10))\n",
    "for i, feature in enumerate(numerical_features, 1):\n",
    "    plt.subplot(4, 3, i)\n",
    "    sns.scatterplot(x=df[feature], y=df['Price'])\n",
    "    plt.title(f'Price vs {feature}')\n",
    "    plt.xlabel(feature)\n",
    "    plt.ylabel('Price')\n",
    "\n",
    "plt.tight_layout()\n",
    "plt.show()\n",
    "\n",
    "# Show correlation matrix for numerical features\n",
    "correlation_matrix = df.corr()\n",
    "print(\"Correlation of numerical features with Price:\\n\", correlation_matrix['Price'].sort_values(ascending=False))"
   ]
  },
  {
   "cell_type": "code",
   "execution_count": null,
   "id": "4f83c4a9-d4a2-4797-ad9a-e913373a9db8",
   "metadata": {},
   "outputs": [],
   "source": [
    "import math\n",
    "numerical_features = df.select_dtypes(include=['int64', 'float64']).columns.drop('Price')\n",
    "\n",
    "# Determine the number of subplots needed (total number of features)\n",
    "num_features = len(numerical_features)\n",
    "\n",
    "# Calculate the number of rows and columns for the subplots grid\n",
    "num_cols = 3  # We want 3 plots per row\n",
    "num_rows = math.ceil(num_features / num_cols)  # Calculate rows needed\n",
    "\n",
    "# Create the figure with the required number of subplots\n",
    "plt.figure(figsize=(15, num_rows * 4))  # Adjust height based on the number of rows\n",
    "\n",
    "# Loop through the numerical features and create scatter plots\n",
    "for i, feature in enumerate(numerical_features, 1):\n",
    "    plt.subplot(num_rows, num_cols, i)  # Dynamically create the grid\n",
    "    sns.scatterplot(x=df[feature], y=df['Price'])\n",
    "    plt.title(f'Price vs {feature}')\n",
    "    plt.xlabel(feature)\n",
    "    plt.ylabel('Price')\n",
    "\n",
    "plt.tight_layout()  # Adjust layout to prevent overlap\n",
    "plt.show()"
   ]
  },
  {
   "cell_type": "code",
   "execution_count": null,
   "id": "03ec98b7-60b5-41b5-9886-983bd6eb7f7f",
   "metadata": {},
   "outputs": [],
   "source": [
    "normalized_df"
   ]
  },
  {
   "cell_type": "code",
   "execution_count": null,
   "id": "d16881f6-fea3-4f93-8834-fb133db56d19",
   "metadata": {},
   "outputs": [],
   "source": [
    "df"
   ]
  },
  {
   "cell_type": "code",
   "execution_count": null,
   "id": "359b6b2f-1207-4956-9cca-9e53a4cb3db2",
   "metadata": {},
   "outputs": [],
   "source": [
    "X = df.drop(['Price'],axis = 1).values\n",
    "X"
   ]
  },
  {
   "cell_type": "code",
   "execution_count": null,
   "id": "43707697-cf1f-40ff-8659-f8b477daa3db",
   "metadata": {},
   "outputs": [],
   "source": [
    "y = df['Price'].values\n",
    "y"
   ]
  },
  {
   "cell_type": "code",
   "execution_count": null,
   "id": "13e76278-9125-463b-9ca0-2250bb665c92",
   "metadata": {},
   "outputs": [],
   "source": [
    "from sklearn.model_selection import train_test_split\n",
    "\n",
    "# Assuming X is your feature matrix (shape: (1436, 10)) and y is your target array (shape: (1436,))\n",
    "X_train, X_test, y_train, y_test = train_test_split(X, y, test_size=0.2, random_state=42)\n",
    "\n",
    "print(X_train.shape)  # Should be (1148, 10)\n",
    "print(y_train.shape) "
   ]
  },
  {
   "cell_type": "code",
   "execution_count": null,
   "id": "a45379ef-49a0-4a4a-bbe0-d5fdf4bc245c",
   "metadata": {},
   "outputs": [],
   "source": [
    "from sklearn.linear_model import LinearRegression\n",
    "ml = LinearRegression()\n",
    "ml.fit(X_train,y_train)"
   ]
  },
  {
   "cell_type": "code",
   "execution_count": null,
   "id": "7ee7c74c-442c-4a13-9fde-76865488abf4",
   "metadata": {},
   "outputs": [],
   "source": [
    "df.info()"
   ]
  },
  {
   "cell_type": "code",
   "execution_count": null,
   "id": "f87cef57-0492-4bc2-a150-046597dfd582",
   "metadata": {},
   "outputs": [],
   "source": [
    "df['Price'].value_counts()"
   ]
  },
  {
   "cell_type": "code",
   "execution_count": null,
   "id": "b9617059-8355-4dd4-8c48-339b032c9564",
   "metadata": {},
   "outputs": [],
   "source": [
    "df['Doors'].value_counts()"
   ]
  },
  {
   "cell_type": "code",
   "execution_count": null,
   "id": "5ce636d7-9454-42ea-8de3-28e14a367f4c",
   "metadata": {},
   "outputs": [],
   "source": [
    "print(X.shape,y.shape)"
   ]
  },
  {
   "cell_type": "code",
   "execution_count": null,
   "id": "208a3436-6431-4c3f-a5e2-0fc54379a9e3",
   "metadata": {},
   "outputs": [],
   "source": [
    "print(X_train.shape,y_train.shape)"
   ]
  },
  {
   "cell_type": "code",
   "execution_count": null,
   "id": "95111cfd-d142-4a46-958d-359e7da8fbdc",
   "metadata": {},
   "outputs": [],
   "source": [
    "y_pred = ml.predict(X_test)\n",
    "y_pred"
   ]
  },
  {
   "cell_type": "code",
   "execution_count": null,
   "id": "f0de0b9f-7569-458c-b432-1580a2c99182",
   "metadata": {},
   "outputs": [],
   "source": [
    "from sklearn.metrics import r2_score\n",
    "r2_score(y_test,y_pred)"
   ]
  },
  {
   "cell_type": "code",
   "execution_count": null,
   "id": "4a3300eb-2819-4de3-b4da-f62401739c87",
   "metadata": {},
   "outputs": [],
   "source": [
    "print(y_test.shape,y_train.shape)"
   ]
  },
  {
   "cell_type": "code",
   "execution_count": null,
   "id": "0e863ff0-9e64-4490-80d6-044eff4be73d",
   "metadata": {},
   "outputs": [],
   "source": [
    "plt.figure(figsize= (15,10))\n",
    "plt.scatter(y_test,y_pred)\n",
    "plt.title('actual vs predicted')\n",
    "plt.xlabel('actual')\n",
    "plt.ylabel('predicted')\n",
    "plt.show()\n"
   ]
  },
  {
   "cell_type": "code",
   "execution_count": null,
   "id": "5eb6ca6c-605e-4306-bb71-ef7adcb64cfa",
   "metadata": {},
   "outputs": [],
   "source": [
    "pred_y_df = pd.DataFrame(\n",
    "    {\n",
    "        'Actual_value' : y_test,\n",
    "        'Predicted_values' : y_pred,\n",
    "        'Difference' : y_test - y_pred\n",
    "    }\n",
    ")\n",
    "pred_y_df"
   ]
  },
  {
   "cell_type": "markdown",
   "id": "34057ca9-bbf2-40ed-808c-36990f594c87",
   "metadata": {},
   "source": [
    "# Interview Question"
   ]
  },
  {
   "cell_type": "code",
   "execution_count": null,
   "id": "34413db5-4911-4a6e-b357-6d4b36cedadb",
   "metadata": {},
   "outputs": [],
   "source": [
    "# 1.What is Normalization & Standardization and how is it helpful?\n",
    "# normmalization : it a technique of feature scaling so that model can learn different scales of data in numerical value. \n",
    "# the numerical values from the column are converted into values between 0 and 1 using a formula X - Xmin/ Xmax - Xmin \n",
    "# now all the values are between 0 and 1 for all scales of value\n",
    "\n",
    "# standardization: It is also a feature scaling where the mean becomes zero for the data and standard deviation is equal to 1.\n",
    "# the formula is X - X(mean)/Standard_deviation\n",
    "\n"
   ]
  },
  {
   "cell_type": "code",
   "execution_count": null,
   "id": "b8acc5a4-16de-4de1-bde7-6fba9b03bbf6",
   "metadata": {},
   "outputs": [],
   "source": [
    "# 2.What techniques can be used to address multicollinearity in multiple linear regression?\n",
    "\n",
    "# Correlation Matrix:\n",
    "\n",
    "#Identify pairs of predictors with high correlation (e.g., >0.8).\n",
    "#Remove one of the highly correlated predictors\n",
    "\n",
    "#Measure how much a predictor is explained by other predictors.\n",
    "#If VIF>10, it tells high multicollinearity; we can remove or transform the variable."
   ]
  }
 ],
 "metadata": {
  "kernelspec": {
   "display_name": "Python 3 (ipykernel)",
   "language": "python",
   "name": "python3"
  },
  "language_info": {
   "codemirror_mode": {
    "name": "ipython",
    "version": 3
   },
   "file_extension": ".py",
   "mimetype": "text/x-python",
   "name": "python",
   "nbconvert_exporter": "python",
   "pygments_lexer": "ipython3",
   "version": "3.11.7"
  }
 },
 "nbformat": 4,
 "nbformat_minor": 5
}
