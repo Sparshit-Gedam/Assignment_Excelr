{
 "cells": [
  {
   "cell_type": "markdown",
   "id": "0c62afa2-7ce9-44bc-8e62-0f8c45ece275",
   "metadata": {},
   "source": [
    "# Chisquare Statistics\n"
   ]
  },
  {
   "cell_type": "code",
   "execution_count": 2,
   "id": "d2d50274-8788-44df-9e78-48ea1dd2b503",
   "metadata": {},
   "outputs": [
    {
     "data": {
      "text/plain": [
       "(5.638227513227513, 9.487729036781154, False)"
      ]
     },
     "execution_count": 2,
     "metadata": {},
     "output_type": "execute_result"
    }
   ],
   "source": [
    "import numpy as np\n",
    "import pandas as pd\n",
    "from scipy.stats import chi2\n",
    "\n",
    "# Contingency table data\n",
    "observed = np.array([\n",
    "    [50, 70],  # Very Satisfied\n",
    "    [80, 100], # Satisfied\n",
    "    [60, 90],  # Neutral\n",
    "    [30, 50],  # Unsatisfied\n",
    "    [20, 50]   # Very Unsatisfied\n",
    "])\n",
    "\n",
    "# Totals\n",
    "row_totals = observed.sum(axis=1)\n",
    "col_totals = observed.sum(axis=0)\n",
    "grand_total = observed.sum()\n",
    "\n",
    "# Calculating expected frequencies\n",
    "expected = np.outer(row_totals, col_totals) / grand_total\n",
    "\n",
    "# Calculating Chi-Square statistic\n",
    "chi_square_stat = ((observed - expected) ** 2 / expected).sum()\n",
    "\n",
    "# Degrees of freedom\n",
    "df = (observed.shape[0] - 1) * (observed.shape[1] - 1)\n",
    "\n",
    "# Critical value at alpha = 0.05\n",
    "critical_value = chi2.ppf(0.95, df)\n",
    "\n",
    "chi_square_stat, critical_value, chi_square_stat >= critical_value"
   ]
  },
  {
   "cell_type": "markdown",
   "id": "edb37a10-f246-4500-a588-b0eef9c4c500",
   "metadata": {},
   "source": [
    "# Hypothesis Testing"
   ]
  },
  {
   "cell_type": "code",
   "execution_count": 3,
   "id": "fd7b860a-b300-4014-bfdc-145c147fece9",
   "metadata": {},
   "outputs": [
    {
     "data": {
      "text/plain": [
       "(-38.0, 6.034486598030301, False)"
      ]
     },
     "execution_count": 3,
     "metadata": {},
     "output_type": "execute_result"
    }
   ],
   "source": [
    "# Given data\n",
    "x_bar = 3050  # Sample mean weekly cost\n",
    "mu = 1000 + 5 * 600  # Theoretical mean weekly cost\n",
    "sigma = 5 * 25  # Standard deviation of costs\n",
    "n = 25  # Sample size\n",
    "\n",
    "# Calculating standard error and test statistic\n",
    "standard_error = sigma / (n**0.5)\n",
    "t_statistic = (x_bar - mu) / standard_error\n",
    "\n",
    "# Critical value for one-tailed test at alpha = 0.05\n",
    "alpha = 0.05\n",
    "critical_value = chi2.ppf(1 - alpha, df=n-1) ** 0.5  # Chi-squared approximation for Z\n",
    "\n",
    "t_statistic, critical_value, t_statistic >= critical_value\n"
   ]
  },
  {
   "cell_type": "code",
   "execution_count": null,
   "id": "983cb80c-f2f7-458f-b335-be7f72ebdb55",
   "metadata": {},
   "outputs": [],
   "source": []
  }
 ],
 "metadata": {
  "kernelspec": {
   "display_name": "Python 3 (ipykernel)",
   "language": "python",
   "name": "python3"
  },
  "language_info": {
   "codemirror_mode": {
    "name": "ipython",
    "version": 3
   },
   "file_extension": ".py",
   "mimetype": "text/x-python",
   "name": "python",
   "nbconvert_exporter": "python",
   "pygments_lexer": "ipython3",
   "version": "3.11.7"
  }
 },
 "nbformat": 4,
 "nbformat_minor": 5
}
