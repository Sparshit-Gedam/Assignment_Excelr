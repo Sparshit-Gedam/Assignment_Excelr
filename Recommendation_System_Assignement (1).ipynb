{
 "cells": [
  {
   "cell_type": "code",
   "execution_count": 1,
   "id": "f56669f6-1f6f-438c-91b6-2341e1d326aa",
   "metadata": {},
   "outputs": [],
   "source": [
    "import pandas as pd\n",
    "import numpy as np\n",
    "import matplotlib.pyplot as plt\n",
    "import seaborn as sns"
   ]
  },
  {
   "cell_type": "code",
   "execution_count": 3,
   "id": "456c87c7-cfb4-4815-a494-175216f454b0",
   "metadata": {},
   "outputs": [
    {
     "data": {
      "text/html": [
       "<div>\n",
       "<style scoped>\n",
       "    .dataframe tbody tr th:only-of-type {\n",
       "        vertical-align: middle;\n",
       "    }\n",
       "\n",
       "    .dataframe tbody tr th {\n",
       "        vertical-align: top;\n",
       "    }\n",
       "\n",
       "    .dataframe thead th {\n",
       "        text-align: right;\n",
       "    }\n",
       "</style>\n",
       "<table border=\"1\" class=\"dataframe\">\n",
       "  <thead>\n",
       "    <tr style=\"text-align: right;\">\n",
       "      <th></th>\n",
       "      <th>anime_id</th>\n",
       "      <th>name</th>\n",
       "      <th>genre</th>\n",
       "      <th>type</th>\n",
       "      <th>episodes</th>\n",
       "      <th>rating</th>\n",
       "      <th>members</th>\n",
       "    </tr>\n",
       "  </thead>\n",
       "  <tbody>\n",
       "    <tr>\n",
       "      <th>0</th>\n",
       "      <td>32281</td>\n",
       "      <td>Kimi no Na wa.</td>\n",
       "      <td>Drama, Romance, School, Supernatural</td>\n",
       "      <td>Movie</td>\n",
       "      <td>1</td>\n",
       "      <td>9.37</td>\n",
       "      <td>200630</td>\n",
       "    </tr>\n",
       "    <tr>\n",
       "      <th>1</th>\n",
       "      <td>5114</td>\n",
       "      <td>Fullmetal Alchemist: Brotherhood</td>\n",
       "      <td>Action, Adventure, Drama, Fantasy, Magic, Mili...</td>\n",
       "      <td>TV</td>\n",
       "      <td>64</td>\n",
       "      <td>9.26</td>\n",
       "      <td>793665</td>\n",
       "    </tr>\n",
       "    <tr>\n",
       "      <th>2</th>\n",
       "      <td>28977</td>\n",
       "      <td>Gintama°</td>\n",
       "      <td>Action, Comedy, Historical, Parody, Samurai, S...</td>\n",
       "      <td>TV</td>\n",
       "      <td>51</td>\n",
       "      <td>9.25</td>\n",
       "      <td>114262</td>\n",
       "    </tr>\n",
       "    <tr>\n",
       "      <th>3</th>\n",
       "      <td>9253</td>\n",
       "      <td>Steins;Gate</td>\n",
       "      <td>Sci-Fi, Thriller</td>\n",
       "      <td>TV</td>\n",
       "      <td>24</td>\n",
       "      <td>9.17</td>\n",
       "      <td>673572</td>\n",
       "    </tr>\n",
       "    <tr>\n",
       "      <th>4</th>\n",
       "      <td>9969</td>\n",
       "      <td>Gintama&amp;#039;</td>\n",
       "      <td>Action, Comedy, Historical, Parody, Samurai, S...</td>\n",
       "      <td>TV</td>\n",
       "      <td>51</td>\n",
       "      <td>9.16</td>\n",
       "      <td>151266</td>\n",
       "    </tr>\n",
       "  </tbody>\n",
       "</table>\n",
       "</div>"
      ],
      "text/plain": [
       "   anime_id                              name  \\\n",
       "0     32281                    Kimi no Na wa.   \n",
       "1      5114  Fullmetal Alchemist: Brotherhood   \n",
       "2     28977                          Gintama°   \n",
       "3      9253                       Steins;Gate   \n",
       "4      9969                     Gintama&#039;   \n",
       "\n",
       "                                               genre   type episodes  rating  \\\n",
       "0               Drama, Romance, School, Supernatural  Movie        1    9.37   \n",
       "1  Action, Adventure, Drama, Fantasy, Magic, Mili...     TV       64    9.26   \n",
       "2  Action, Comedy, Historical, Parody, Samurai, S...     TV       51    9.25   \n",
       "3                                   Sci-Fi, Thriller     TV       24    9.17   \n",
       "4  Action, Comedy, Historical, Parody, Samurai, S...     TV       51    9.16   \n",
       "\n",
       "   members  \n",
       "0   200630  \n",
       "1   793665  \n",
       "2   114262  \n",
       "3   673572  \n",
       "4   151266  "
      ]
     },
     "execution_count": 3,
     "metadata": {},
     "output_type": "execute_result"
    }
   ],
   "source": [
    "df = pd.read_csv(r\"C:\\Users\\hp\\OneDrive\\anime.csv\") \n",
    "df.head()"
   ]
  },
  {
   "cell_type": "code",
   "execution_count": 4,
   "id": "d68c23fb-c6b9-4063-9ff0-ea6ca5ad7fdf",
   "metadata": {},
   "outputs": [
    {
     "name": "stdout",
     "output_type": "stream",
     "text": [
      "<class 'pandas.core.frame.DataFrame'>\n",
      "RangeIndex: 12294 entries, 0 to 12293\n",
      "Data columns (total 7 columns):\n",
      " #   Column    Non-Null Count  Dtype  \n",
      "---  ------    --------------  -----  \n",
      " 0   anime_id  12294 non-null  int64  \n",
      " 1   name      12294 non-null  object \n",
      " 2   genre     12232 non-null  object \n",
      " 3   type      12269 non-null  object \n",
      " 4   episodes  12294 non-null  object \n",
      " 5   rating    12064 non-null  float64\n",
      " 6   members   12294 non-null  int64  \n",
      "dtypes: float64(1), int64(2), object(4)\n",
      "memory usage: 672.5+ KB\n"
     ]
    }
   ],
   "source": [
    "df.info()"
   ]
  },
  {
   "cell_type": "code",
   "execution_count": 6,
   "id": "cf8da93e-9590-44cb-977f-33da4080a4b5",
   "metadata": {},
   "outputs": [
    {
     "data": {
      "text/plain": [
       "anime_id      0\n",
       "name          0\n",
       "genre        62\n",
       "type         25\n",
       "episodes      0\n",
       "rating      230\n",
       "members       0\n",
       "dtype: int64"
      ]
     },
     "execution_count": 6,
     "metadata": {},
     "output_type": "execute_result"
    }
   ],
   "source": [
    "df.isnull().sum()"
   ]
  },
  {
   "cell_type": "code",
   "execution_count": 14,
   "id": "e413360c-b31a-48c4-8675-c7923a1a0cf1",
   "metadata": {},
   "outputs": [],
   "source": [
    "data_cleaned = df.dropna()"
   ]
  },
  {
   "cell_type": "code",
   "execution_count": 15,
   "id": "8dfcc8a2-e03a-4f98-9645-7aadd511586e",
   "metadata": {},
   "outputs": [
    {
     "data": {
      "text/plain": [
       "anime_id    0\n",
       "name        0\n",
       "genre       0\n",
       "type        0\n",
       "episodes    0\n",
       "rating      0\n",
       "members     0\n",
       "dtype: int64"
      ]
     },
     "execution_count": 15,
     "metadata": {},
     "output_type": "execute_result"
    }
   ],
   "source": [
    "data_cleaned.isnull().sum()"
   ]
  },
  {
   "cell_type": "code",
   "execution_count": 16,
   "id": "9253c199-cc05-4198-a3e2-9f8ce3b8970a",
   "metadata": {},
   "outputs": [
    {
     "name": "stderr",
     "output_type": "stream",
     "text": [
      "C:\\Users\\hp\\AppData\\Local\\Temp\\ipykernel_19472\\2987897709.py:9: SettingWithCopyWarning: \n",
      "A value is trying to be set on a copy of a slice from a DataFrame.\n",
      "Try using .loc[row_indexer,col_indexer] = value instead\n",
      "\n",
      "See the caveats in the documentation: https://pandas.pydata.org/pandas-docs/stable/user_guide/indexing.html#returning-a-view-versus-a-copy\n",
      "  data_cleaned['episodes'] = pd.to_numeric(data_cleaned['episodes'], errors='coerce').fillna(0).astype(int)\n",
      "C:\\Users\\hp\\AppData\\Local\\Temp\\ipykernel_19472\\2987897709.py:12: SettingWithCopyWarning: \n",
      "A value is trying to be set on a copy of a slice from a DataFrame.\n",
      "Try using .loc[row_indexer,col_indexer] = value instead\n",
      "\n",
      "See the caveats in the documentation: https://pandas.pydata.org/pandas-docs/stable/user_guide/indexing.html#returning-a-view-versus-a-copy\n",
      "  data_cleaned['genre'] = data_cleaned['genre'].apply(lambda x: x.split(', '))\n"
     ]
    },
    {
     "name": "stdout",
     "output_type": "stream",
     "text": [
      "                    name                                              genre  \\\n",
      "200  Fullmetal Alchemist  Action, Adventure, Comedy, Drama, Fantasy, Mag...   \n",
      "288           Fairy Tail  Action, Adventure, Comedy, Fantasy, Magic, Sho...   \n",
      "775       Akame ga Kill!                         Action, Adventure, Fantasy   \n",
      "\n",
      "     rating  \n",
      "200    8.33  \n",
      "288    8.22  \n",
      "775    7.84  \n"
     ]
    }
   ],
   "source": [
    "from sklearn.metrics.pairwise import cosine_similarity\n",
    "from sklearn.preprocessing import MultiLabelBinarizer, StandardScaler\n",
    "\n",
    "\n",
    "\n",
    "\n",
    "\n",
    "# Convert 'episodes' to numeric, handling 'Unknown' values\n",
    "data_cleaned['episodes'] = pd.to_numeric(data_cleaned['episodes'], errors='coerce').fillna(0).astype(int)\n",
    "\n",
    "# Process 'genre' as multi-label data\n",
    "data_cleaned['genre'] = data_cleaned['genre'].apply(lambda x: x.split(', '))\n",
    "mlb = MultiLabelBinarizer()\n",
    "genre_encoded = mlb.fit_transform(data_cleaned['genre'])\n",
    "\n",
    "# Encode 'type' as a one-hot vector\n",
    "type_encoded = pd.get_dummies(data_cleaned['type'])\n",
    "\n",
    "# Combine features\n",
    "features = np.concatenate([genre_encoded, type_encoded, \n",
    "                           data_cleaned[['episodes', 'rating', 'members']].values], axis=1)\n",
    "\n",
    "# Normalize the combined features\n",
    "scaler = StandardScaler()\n",
    "features_scaled = scaler.fit_transform(features)\n",
    "\n",
    "# Compute cosine similarity matrix\n",
    "similarity_matrix = cosine_similarity(features_scaled)\n",
    "\n",
    "# Recommendation function based on cosine similarity\n",
    "def recommend_anime(anime_name, data_cleaned, similarity_matrix, top_n=5):\n",
    "    anime_index = data_cleaned[data_cleaned['name'] == anime_name].index[0]\n",
    "    similarity_scores = list(enumerate(similarity_matrix[anime_index]))\n",
    "    similarity_scores = sorted(similarity_scores, key=lambda x: x[1], reverse=True)\n",
    "    recommended_indices = [i[0] for i in similarity_scores[1:top_n+1]]\n",
    "    \n",
    "    return df.iloc[recommended_indices][['name', 'genre', 'rating']]\n",
    "\n",
    "# Example usage\n",
    "print(recommend_anime('Fullmetal Alchemist: Brotherhood', data_cleaned, similarity_matrix, top_n=3))\n"
   ]
  },
  {
   "cell_type": "code",
   "execution_count": 17,
   "id": "772838ad-55ee-476e-af77-e6916fcc10cd",
   "metadata": {},
   "outputs": [],
   "source": [
    "def recommend_anime(anime_name, data_cleaned, similarity_matrix, threshold=0.5, top_n=10):\n",
    "    anime_index = data_cleaned[data_cleaned['name'] == anime_name].index[0]\n",
    "    similarity_scores = list(enumerate(similarity_matrix[anime_index]))\n",
    "    \n",
    "    # Filter based on threshold\n",
    "    filtered_scores = [(i, score) for i, score in similarity_scores if i != anime_index and score >= threshold]\n",
    "    filtered_scores = sorted(filtered_scores, key=lambda x: x[1], reverse=True)[:top_n]\n",
    "    \n",
    "    recommended_indices = [i[0] for i in filtered_scores]\n",
    "    return df.iloc[recommended_indices][['name', 'genre', 'rating']]\n"
   ]
  },
  {
   "cell_type": "code",
   "execution_count": 20,
   "id": "697904be-1822-47cd-8a33-3bba60e81805",
   "metadata": {},
   "outputs": [],
   "source": [
    "from sklearn.metrics import precision_score, recall_score, f1_score\n",
    "\n",
    "def evaluate_recommendations(test_df, train_df, similarity_matrix, threshold=0.5):\n",
    "    y_true = []\n",
    "    y_pred = []\n",
    "    \n",
    "    for _, row in test_df.iterrows():\n",
    "        target_genre = set(row['genre'])\n",
    "        \n",
    "        # Get recommendations for this anime in the train set\n",
    "        recommendations = recommend_anime(row['name'], train_df, similarity_matrix, threshold=threshold)\n",
    "        \n",
    "        # Define true labels (1 if genre overlap, 0 otherwise)\n",
    "        true_labels = [(1 if set(rec_genre).intersection(target_genre) else 0) for rec_genre in recommendations['genre']]\n",
    "        \n",
    "        # Predicted labels (1 for all recommendations)\n",
    "        predicted_labels = [1] * len(true_labels)\n",
    "        \n",
    "        y_true.extend(true_labels)\n",
    "        y_pred.extend(predicted_labels)\n",
    "    \n",
    "    # Calculate metrics\n",
    "    precision = precision_score(y_true, y_pred, zero_division=1)\n",
    "    recall = recall_score(y_true, y_pred, zero_division=1)\n",
    "    f1 = f1_score(y_true, y_pred, zero_division=1)\n",
    "    \n",
    "    print(f\"Precision: {precision:.2f}\")\n",
    "    print(f\"Recall: {recall:.2f}\")\n",
    "    print(f\"F1-score: {f1:.2f}\")\n"
   ]
  },
  {
   "cell_type": "markdown",
   "id": "30fa4094-be61-4f1a-935f-8d5c0be6c7eb",
   "metadata": {},
   "source": [
    "# Interview Questions"
   ]
  },
  {
   "cell_type": "code",
   "execution_count": null,
   "id": "663d5e85-ed32-428b-a067-c42d681495ee",
   "metadata": {},
   "outputs": [],
   "source": [
    "#1. Can you explain the difference between user-based and item-based collaborative filtering?\n",
    "\n",
    "# 1. user based : - when two user are having similar preferences other user with same history pattern will be recommended the same type of content\n",
    "\n",
    "# 2. item based : - when a user has interacted with an item or product in historty will be recommended again in the future\n",
    "\n"
   ]
  },
  {
   "cell_type": "code",
   "execution_count": null,
   "id": "d2ca3470-0be6-4296-b013-ced13550f336",
   "metadata": {},
   "outputs": [],
   "source": [
    "#2. What is collaborative filtering, and how does it work?\n",
    "\n",
    "# Collaborative filtering is a popular technique used in recommendation systems to suggest items to users based on their past interactions.\n",
    "# It relies on patterns of user behavior rather than explicit features of the items,\n",
    "# making it useful when item metadata is unavailable or incomplete.\n",
    "# there are two types of collaborative filetering \n",
    "# 1. user based : - when two user are having similar preferences other user with same history pattern will be recommended the same type of content\n",
    "\n",
    "# 2. item based : - when a user has interacted with an item or product in historty will be recommended again in the future"
   ]
  }
 ],
 "metadata": {
  "kernelspec": {
   "display_name": "Python 3 (ipykernel)",
   "language": "python",
   "name": "python3"
  },
  "language_info": {
   "codemirror_mode": {
    "name": "ipython",
    "version": 3
   },
   "file_extension": ".py",
   "mimetype": "text/x-python",
   "name": "python",
   "nbconvert_exporter": "python",
   "pygments_lexer": "ipython3",
   "version": "3.11.7"
  }
 },
 "nbformat": 4,
 "nbformat_minor": 5
}
