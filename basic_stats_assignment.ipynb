{
 "cells": [
  {
   "cell_type": "code",
   "execution_count": 1,
   "id": "07b6a23e-41f6-4922-8aa8-f0100ec848b7",
   "metadata": {},
   "outputs": [],
   "source": [
    "import pandas as pd\n",
    "import numpy as np\n",
    "import seaborn as sns\n",
    "import matplotlib.pyplot as plt\n"
   ]
  },
  {
   "cell_type": "code",
   "execution_count": 2,
   "id": "f807241a-511c-40eb-b9e4-8fc3c0fffcde",
   "metadata": {},
   "outputs": [],
   "source": [
    "df = pd.read_csv(r\"C:\\Users\\hp\\OneDrive\\sales_data_with_discounts.csv\")"
   ]
  },
  {
   "cell_type": "code",
   "execution_count": 3,
   "id": "bee68bfa-531f-4b3d-9fbb-0c9d0719a2a8",
   "metadata": {},
   "outputs": [
    {
     "data": {
      "text/html": [
       "<div>\n",
       "<style scoped>\n",
       "    .dataframe tbody tr th:only-of-type {\n",
       "        vertical-align: middle;\n",
       "    }\n",
       "\n",
       "    .dataframe tbody tr th {\n",
       "        vertical-align: top;\n",
       "    }\n",
       "\n",
       "    .dataframe thead th {\n",
       "        text-align: right;\n",
       "    }\n",
       "</style>\n",
       "<table border=\"1\" class=\"dataframe\">\n",
       "  <thead>\n",
       "    <tr style=\"text-align: right;\">\n",
       "      <th></th>\n",
       "      <th>Date</th>\n",
       "      <th>Day</th>\n",
       "      <th>SKU</th>\n",
       "      <th>City</th>\n",
       "      <th>Volume</th>\n",
       "      <th>BU</th>\n",
       "      <th>Brand</th>\n",
       "      <th>Model</th>\n",
       "      <th>Avg Price</th>\n",
       "      <th>Total Sales Value</th>\n",
       "      <th>Discount Rate (%)</th>\n",
       "      <th>Discount Amount</th>\n",
       "      <th>Net Sales Value</th>\n",
       "    </tr>\n",
       "  </thead>\n",
       "  <tbody>\n",
       "    <tr>\n",
       "      <th>0</th>\n",
       "      <td>01-04-2021</td>\n",
       "      <td>Thursday</td>\n",
       "      <td>M01</td>\n",
       "      <td>C</td>\n",
       "      <td>15</td>\n",
       "      <td>Mobiles</td>\n",
       "      <td>RealU</td>\n",
       "      <td>RU-10</td>\n",
       "      <td>12100</td>\n",
       "      <td>181500</td>\n",
       "      <td>11.654820</td>\n",
       "      <td>21153.498820</td>\n",
       "      <td>160346.501180</td>\n",
       "    </tr>\n",
       "    <tr>\n",
       "      <th>1</th>\n",
       "      <td>01-04-2021</td>\n",
       "      <td>Thursday</td>\n",
       "      <td>M02</td>\n",
       "      <td>C</td>\n",
       "      <td>10</td>\n",
       "      <td>Mobiles</td>\n",
       "      <td>RealU</td>\n",
       "      <td>RU-9 Plus</td>\n",
       "      <td>10100</td>\n",
       "      <td>101000</td>\n",
       "      <td>11.560498</td>\n",
       "      <td>11676.102961</td>\n",
       "      <td>89323.897039</td>\n",
       "    </tr>\n",
       "    <tr>\n",
       "      <th>2</th>\n",
       "      <td>01-04-2021</td>\n",
       "      <td>Thursday</td>\n",
       "      <td>M03</td>\n",
       "      <td>C</td>\n",
       "      <td>7</td>\n",
       "      <td>Mobiles</td>\n",
       "      <td>YouM</td>\n",
       "      <td>YM-99</td>\n",
       "      <td>16100</td>\n",
       "      <td>112700</td>\n",
       "      <td>9.456886</td>\n",
       "      <td>10657.910157</td>\n",
       "      <td>102042.089843</td>\n",
       "    </tr>\n",
       "    <tr>\n",
       "      <th>3</th>\n",
       "      <td>01-04-2021</td>\n",
       "      <td>Thursday</td>\n",
       "      <td>M04</td>\n",
       "      <td>C</td>\n",
       "      <td>6</td>\n",
       "      <td>Mobiles</td>\n",
       "      <td>YouM</td>\n",
       "      <td>YM-99 Plus</td>\n",
       "      <td>20100</td>\n",
       "      <td>120600</td>\n",
       "      <td>6.935385</td>\n",
       "      <td>8364.074702</td>\n",
       "      <td>112235.925298</td>\n",
       "    </tr>\n",
       "    <tr>\n",
       "      <th>4</th>\n",
       "      <td>01-04-2021</td>\n",
       "      <td>Thursday</td>\n",
       "      <td>M05</td>\n",
       "      <td>C</td>\n",
       "      <td>3</td>\n",
       "      <td>Mobiles</td>\n",
       "      <td>YouM</td>\n",
       "      <td>YM-98</td>\n",
       "      <td>8100</td>\n",
       "      <td>24300</td>\n",
       "      <td>17.995663</td>\n",
       "      <td>4372.946230</td>\n",
       "      <td>19927.053770</td>\n",
       "    </tr>\n",
       "  </tbody>\n",
       "</table>\n",
       "</div>"
      ],
      "text/plain": [
       "         Date       Day  SKU City  Volume       BU  Brand       Model  \\\n",
       "0  01-04-2021  Thursday  M01    C      15  Mobiles  RealU       RU-10   \n",
       "1  01-04-2021  Thursday  M02    C      10  Mobiles  RealU   RU-9 Plus   \n",
       "2  01-04-2021  Thursday  M03    C       7  Mobiles   YouM       YM-99   \n",
       "3  01-04-2021  Thursday  M04    C       6  Mobiles   YouM  YM-99 Plus   \n",
       "4  01-04-2021  Thursday  M05    C       3  Mobiles   YouM      YM-98    \n",
       "\n",
       "   Avg Price  Total Sales Value  Discount Rate (%)  Discount Amount  \\\n",
       "0      12100             181500          11.654820     21153.498820   \n",
       "1      10100             101000          11.560498     11676.102961   \n",
       "2      16100             112700           9.456886     10657.910157   \n",
       "3      20100             120600           6.935385      8364.074702   \n",
       "4       8100              24300          17.995663      4372.946230   \n",
       "\n",
       "   Net Sales Value  \n",
       "0    160346.501180  \n",
       "1     89323.897039  \n",
       "2    102042.089843  \n",
       "3    112235.925298  \n",
       "4     19927.053770  "
      ]
     },
     "execution_count": 3,
     "metadata": {},
     "output_type": "execute_result"
    }
   ],
   "source": [
    "df.head()"
   ]
  },
  {
   "cell_type": "code",
   "execution_count": 4,
   "id": "0cd789cc-d5a1-4e01-9ccb-aa696658938b",
   "metadata": {},
   "outputs": [
    {
     "name": "stdout",
     "output_type": "stream",
     "text": [
      "<class 'pandas.core.frame.DataFrame'>\n",
      "RangeIndex: 450 entries, 0 to 449\n",
      "Data columns (total 13 columns):\n",
      " #   Column             Non-Null Count  Dtype  \n",
      "---  ------             --------------  -----  \n",
      " 0   Date               450 non-null    object \n",
      " 1   Day                450 non-null    object \n",
      " 2   SKU                450 non-null    object \n",
      " 3   City               450 non-null    object \n",
      " 4   Volume             450 non-null    int64  \n",
      " 5   BU                 450 non-null    object \n",
      " 6   Brand              450 non-null    object \n",
      " 7   Model              450 non-null    object \n",
      " 8   Avg Price          450 non-null    int64  \n",
      " 9   Total Sales Value  450 non-null    int64  \n",
      " 10  Discount Rate (%)  450 non-null    float64\n",
      " 11  Discount Amount    450 non-null    float64\n",
      " 12  Net Sales Value    450 non-null    float64\n",
      "dtypes: float64(3), int64(3), object(7)\n",
      "memory usage: 45.8+ KB\n"
     ]
    }
   ],
   "source": [
    "df.info()"
   ]
  },
  {
   "cell_type": "code",
   "execution_count": 7,
   "id": "430b6b15-c08d-488b-a536-c535dd643735",
   "metadata": {},
   "outputs": [],
   "source": [
    "column_list = ['Volume','Avg Price','Total Sales Value']"
   ]
  },
  {
   "cell_type": "markdown",
   "id": "4d665d21-b906-4021-b82d-2350f54b98a3",
   "metadata": {},
   "source": [
    "# histplots"
   ]
  },
  {
   "cell_type": "code",
   "execution_count": 13,
   "id": "04da3a73-5378-4dbb-8313-5db8370bd1ce",
   "metadata": {},
   "outputs": [
    {
     "name": "stderr",
     "output_type": "stream",
     "text": [
      "C:\\ProgramData\\anaconda3\\Lib\\site-packages\\seaborn\\_oldcore.py:1119: FutureWarning: use_inf_as_na option is deprecated and will be removed in a future version. Convert inf values to NaN before operating instead.\n",
      "  with pd.option_context('mode.use_inf_as_na', True):\n"
     ]
    },
    {
     "data": {
      "text/plain": [
       "<Axes: xlabel='Volume', ylabel='Count'>"
      ]
     },
     "execution_count": 13,
     "metadata": {},
     "output_type": "execute_result"
    },
    {
     "data": {
      "image/png": "[encoded data removed]",
      "text/plain": [
       "<Figure size 640x480 with 1 Axes>"
      ]
     },
     "metadata": {},
     "output_type": "display_data"
    }
   ],
   "source": [
    "sns.histplot(df['Volume'])\n",
    "\n",
    "    "
   ]
  },
  {
   "cell_type": "code",
   "execution_count": 14,
   "id": "36f7a36f-3978-4a5b-9fdd-6acfa4ac9e0b",
   "metadata": {},
   "outputs": [
    {
     "name": "stderr",
     "output_type": "stream",
     "text": [
      "C:\\ProgramData\\anaconda3\\Lib\\site-packages\\seaborn\\_oldcore.py:1119: FutureWarning: use_inf_as_na option is deprecated and will be removed in a future version. Convert inf values to NaN before operating instead.\n",
      "  with pd.option_context('mode.use_inf_as_na', True):\n"
     ]
    },
    {
     "data": {
      "text/plain": [
       "<Axes: xlabel='Avg Price', ylabel='Count'>"
      ]
     },
     "execution_count": 14,
     "metadata": {},
     "output_type": "execute_result"
    },
    {
     "data": {
      "image/png": "[encoded data removed]",
      "text/plain": [
       "<Figure size 640x480 with 1 Axes>"
      ]
     },
     "metadata": {},
     "output_type": "display_data"
    }
   ],
   "source": [
    "sns.histplot(df['Avg Price'])\n"
   ]
  },
  {
   "cell_type": "code",
   "execution_count": 15,
   "id": "20962178-13a7-41a0-9906-40b39ea635cc",
   "metadata": {},
   "outputs": [
    {
     "name": "stderr",
     "output_type": "stream",
     "text": [
      "C:\\ProgramData\\anaconda3\\Lib\\site-packages\\seaborn\\_oldcore.py:1119: FutureWarning: use_inf_as_na option is deprecated and will be removed in a future version. Convert inf values to NaN before operating instead.\n",
      "  with pd.option_context('mode.use_inf_as_na', True):\n"
     ]
    },
    {
     "data": {
      "text/plain": [
       "<Axes: xlabel='Total Sales Value', ylabel='Count'>"
      ]
     },
     "execution_count": 15,
     "metadata": {},
     "output_type": "execute_result"
    },
    {
     "data": {
      "image/png": "[encoded data removed]",
      "text/plain": [
       "<Figure size 640x480 with 1 Axes>"
      ]
     },
     "metadata": {},
     "output_type": "display_data"
    }
   ],
   "source": [
    "sns.histplot(df['Total Sales Value'])"
   ]
  },
  {
   "cell_type": "markdown",
   "id": "0c625267-cf57-484c-a49e-024a87d2dcaa",
   "metadata": {},
   "source": [
    "# boxplots"
   ]
  },
  {
   "cell_type": "code",
   "execution_count": 16,
   "id": "ad2c9d1d-75af-4fa9-b4e1-27821972a46e",
   "metadata": {},
   "outputs": [
    {
     "data": {
      "text/plain": [
       "<Axes: >"
      ]
     },
     "execution_count": 16,
     "metadata": {},
     "output_type": "execute_result"
    },
    {
     "data": {
      "image/png": "[encoded data removed]",
      "text/plain": [
       "<Figure size 640x480 with 1 Axes>"
      ]
     },
     "metadata": {},
     "output_type": "display_data"
    }
   ],
   "source": [
    "sns.boxplot(df['Volume'])"
   ]
  },
  {
   "cell_type": "code",
   "execution_count": 17,
   "id": "f32328b3-e28e-46e3-964e-b12b37ef4307",
   "metadata": {},
   "outputs": [
    {
     "data": {
      "text/plain": [
       "<Axes: >"
      ]
     },
     "execution_count": 17,
     "metadata": {},
     "output_type": "execute_result"
    },
    {
     "data": {
      "image/png": "[encoded data removed]",
      "text/plain": [
       "<Figure size 640x480 with 1 Axes>"
      ]
     },
     "metadata": {},
     "output_type": "display_data"
    }
   ],
   "source": [
    "sns.boxplot(df['Total Sales Value'])"
   ]
  },
  {
   "cell_type": "code",
   "execution_count": 18,
   "id": "5e094c88-f73c-46d3-92e2-48f6da1c1944",
   "metadata": {},
   "outputs": [
    {
     "data": {
      "text/plain": [
       "<Axes: >"
      ]
     },
     "execution_count": 18,
     "metadata": {},
     "output_type": "execute_result"
    },
    {
     "data": {
      "image/png": "[encoded data removed]",
      "text/plain": [
       "<Figure size 640x480 with 1 Axes>"
      ]
     },
     "metadata": {},
     "output_type": "display_data"
    }
   ],
   "source": [
    "sns.boxplot(df['Avg Price'])"
   ]
  },
  {
   "cell_type": "code",
   "execution_count": 21,
   "id": "7012b740-3a95-41b7-949f-941577104e1c",
   "metadata": {},
   "outputs": [
    {
     "data": {
      "text/html": [
       "<div>\n",
       "<style scoped>\n",
       "    .dataframe tbody tr th:only-of-type {\n",
       "        vertical-align: middle;\n",
       "    }\n",
       "\n",
       "    .dataframe tbody tr th {\n",
       "        vertical-align: top;\n",
       "    }\n",
       "\n",
       "    .dataframe thead th {\n",
       "        text-align: right;\n",
       "    }\n",
       "</style>\n",
       "<table border=\"1\" class=\"dataframe\">\n",
       "  <thead>\n",
       "    <tr style=\"text-align: right;\">\n",
       "      <th></th>\n",
       "      <th>Date</th>\n",
       "      <th>Day</th>\n",
       "      <th>SKU</th>\n",
       "      <th>City</th>\n",
       "      <th>Volume</th>\n",
       "      <th>BU</th>\n",
       "      <th>Brand</th>\n",
       "      <th>Model</th>\n",
       "      <th>Avg Price</th>\n",
       "      <th>Total Sales Value</th>\n",
       "      <th>Discount Rate (%)</th>\n",
       "      <th>Discount Amount</th>\n",
       "      <th>Net Sales Value</th>\n",
       "    </tr>\n",
       "  </thead>\n",
       "  <tbody>\n",
       "    <tr>\n",
       "      <th>0</th>\n",
       "      <td>01-04-2021</td>\n",
       "      <td>Thursday</td>\n",
       "      <td>M01</td>\n",
       "      <td>C</td>\n",
       "      <td>15</td>\n",
       "      <td>Mobiles</td>\n",
       "      <td>RealU</td>\n",
       "      <td>RU-10</td>\n",
       "      <td>12100</td>\n",
       "      <td>181500</td>\n",
       "      <td>11.654820</td>\n",
       "      <td>21153.498820</td>\n",
       "      <td>160346.501180</td>\n",
       "    </tr>\n",
       "    <tr>\n",
       "      <th>1</th>\n",
       "      <td>01-04-2021</td>\n",
       "      <td>Thursday</td>\n",
       "      <td>M02</td>\n",
       "      <td>C</td>\n",
       "      <td>10</td>\n",
       "      <td>Mobiles</td>\n",
       "      <td>RealU</td>\n",
       "      <td>RU-9 Plus</td>\n",
       "      <td>10100</td>\n",
       "      <td>101000</td>\n",
       "      <td>11.560498</td>\n",
       "      <td>11676.102961</td>\n",
       "      <td>89323.897039</td>\n",
       "    </tr>\n",
       "    <tr>\n",
       "      <th>2</th>\n",
       "      <td>01-04-2021</td>\n",
       "      <td>Thursday</td>\n",
       "      <td>M03</td>\n",
       "      <td>C</td>\n",
       "      <td>7</td>\n",
       "      <td>Mobiles</td>\n",
       "      <td>YouM</td>\n",
       "      <td>YM-99</td>\n",
       "      <td>16100</td>\n",
       "      <td>112700</td>\n",
       "      <td>9.456886</td>\n",
       "      <td>10657.910157</td>\n",
       "      <td>102042.089843</td>\n",
       "    </tr>\n",
       "    <tr>\n",
       "      <th>3</th>\n",
       "      <td>01-04-2021</td>\n",
       "      <td>Thursday</td>\n",
       "      <td>M04</td>\n",
       "      <td>C</td>\n",
       "      <td>6</td>\n",
       "      <td>Mobiles</td>\n",
       "      <td>YouM</td>\n",
       "      <td>YM-99 Plus</td>\n",
       "      <td>20100</td>\n",
       "      <td>120600</td>\n",
       "      <td>6.935385</td>\n",
       "      <td>8364.074702</td>\n",
       "      <td>112235.925298</td>\n",
       "    </tr>\n",
       "    <tr>\n",
       "      <th>4</th>\n",
       "      <td>01-04-2021</td>\n",
       "      <td>Thursday</td>\n",
       "      <td>M05</td>\n",
       "      <td>C</td>\n",
       "      <td>3</td>\n",
       "      <td>Mobiles</td>\n",
       "      <td>YouM</td>\n",
       "      <td>YM-98</td>\n",
       "      <td>8100</td>\n",
       "      <td>24300</td>\n",
       "      <td>17.995663</td>\n",
       "      <td>4372.946230</td>\n",
       "      <td>19927.053770</td>\n",
       "    </tr>\n",
       "  </tbody>\n",
       "</table>\n",
       "</div>"
      ],
      "text/plain": [
       "         Date       Day  SKU City  Volume       BU  Brand       Model  \\\n",
       "0  01-04-2021  Thursday  M01    C      15  Mobiles  RealU       RU-10   \n",
       "1  01-04-2021  Thursday  M02    C      10  Mobiles  RealU   RU-9 Plus   \n",
       "2  01-04-2021  Thursday  M03    C       7  Mobiles   YouM       YM-99   \n",
       "3  01-04-2021  Thursday  M04    C       6  Mobiles   YouM  YM-99 Plus   \n",
       "4  01-04-2021  Thursday  M05    C       3  Mobiles   YouM      YM-98    \n",
       "\n",
       "   Avg Price  Total Sales Value  Discount Rate (%)  Discount Amount  \\\n",
       "0      12100             181500          11.654820     21153.498820   \n",
       "1      10100             101000          11.560498     11676.102961   \n",
       "2      16100             112700           9.456886     10657.910157   \n",
       "3      20100             120600           6.935385      8364.074702   \n",
       "4       8100              24300          17.995663      4372.946230   \n",
       "\n",
       "   Net Sales Value  \n",
       "0    160346.501180  \n",
       "1     89323.897039  \n",
       "2    102042.089843  \n",
       "3    112235.925298  \n",
       "4     19927.053770  "
      ]
     },
     "execution_count": 21,
     "metadata": {},
     "output_type": "execute_result"
    }
   ],
   "source": [
    "df.head()"
   ]
  },
  {
   "cell_type": "markdown",
   "id": "344af1bb-0259-42c2-8dfd-b6cbe6ee0ce3",
   "metadata": {},
   "source": [
    "# Bar chart analysis"
   ]
  },
  {
   "cell_type": "code",
   "execution_count": 20,
   "id": "522fe0a9-123b-4ec6-a8db-a9fd9b8d2616",
   "metadata": {},
   "outputs": [
    {
     "data": {
      "text/plain": [
       "<Axes: xlabel='Day', ylabel='count'>"
      ]
     },
     "execution_count": 20,
     "metadata": {},
     "output_type": "execute_result"
    },
    {
     "data": {
      "image/png": "[encoded data removed]",
      "text/plain": [
       "<Figure size 640x480 with 1 Axes>"
      ]
     },
     "metadata": {},
     "output_type": "display_data"
    }
   ],
   "source": [
    "sns.countplot(x = 'Day',data = df)"
   ]
  },
  {
   "cell_type": "code",
   "execution_count": 23,
   "id": "838d6e50-0f0f-4549-94bb-a206eea4a2d1",
   "metadata": {},
   "outputs": [
    {
     "data": {
      "image/png": "[encoded data removed]",
      "text/plain": [
       "<Figure size 1500x500 with 5 Axes>"
      ]
     },
     "metadata": {},
     "output_type": "display_data"
    }
   ],
   "source": [
    "columns_to_plot = ['Day','City','SKU','Brand','BU']\n",
    "\n",
    "\n",
    "plt.figure(figsize=(15, 5))\n",
    "for i, column in enumerate(columns_to_plot, 1):\n",
    "    plt.subplot(1, len(columns_to_plot), i)\n",
    "    sns.countplot(x=column, data=df)\n",
    "    plt.title(f'Count of {column}')\n",
    "    plt.xlabel(column)\n",
    "    plt.ylabel('Count')\n",
    "\n",
    "plt.tight_layout()\n",
    "plt.show()"
   ]
  },
  {
   "cell_type": "code",
   "execution_count": null,
   "id": "c80971a1-4eef-423e-adea-3f3a450d2f9c",
   "metadata": {},
   "outputs": [],
   "source": [
    "# normaliztion technique is used to normalize numerical data this is also known as feature scaling \n",
    "# in normalization we convert the values of any scale in between 0 and 1\n",
    "# normaliztion is essential step to remove the unstability that different scaling column causes\n",
    "# the formula for normaliztion is (X(max) - X(min))/(X(max) - X) \n",
    "# In most cases, we use an alpha of 0.05, which means that there is a less than 5% chance that the data being tested could have occurred under the null hypothesis."
   ]
  },
  {
   "cell_type": "code",
   "execution_count": null,
   "id": "d0691ac2-377b-4e42-b687-3da1820ed1a3",
   "metadata": {},
   "outputs": [],
   "source": [
    "col_name = ['Avg Price','Total Sales Value','Discount Rate (%)','Discount Amount','Net Sales Value']\n",
    "from sklearn.preprocessing import MinMaxScaler\n",
    "scaler = MinMaxScaler()\n",
    "\n",
    "for i in col_name:\n",
    "    df[i] = scaler.fit_transform(df[i])\n",
    "\n",
    "df"
   ]
  },
  {
   "cell_type": "code",
   "execution_count": 36,
   "id": "89b32ccb-931f-4694-aef4-2276207a058d",
   "metadata": {},
   "outputs": [
    {
     "data": {
      "text/html": [
       "<div>\n",
       "<style scoped>\n",
       "    .dataframe tbody tr th:only-of-type {\n",
       "        vertical-align: middle;\n",
       "    }\n",
       "\n",
       "    .dataframe tbody tr th {\n",
       "        vertical-align: top;\n",
       "    }\n",
       "\n",
       "    .dataframe thead th {\n",
       "        text-align: right;\n",
       "    }\n",
       "</style>\n",
       "<table border=\"1\" class=\"dataframe\">\n",
       "  <thead>\n",
       "    <tr style=\"text-align: right;\">\n",
       "      <th></th>\n",
       "      <th>Day_Friday</th>\n",
       "      <th>Day_Monday</th>\n",
       "      <th>Day_Saturday</th>\n",
       "      <th>Day_Sunday</th>\n",
       "      <th>Day_Thursday</th>\n",
       "      <th>Day_Tuesday</th>\n",
       "      <th>Day_Wednesday</th>\n",
       "      <th>City_C</th>\n",
       "      <th>SKU_F01</th>\n",
       "      <th>SKU_F02</th>\n",
       "      <th>...</th>\n",
       "      <th>Brand_Jeera</th>\n",
       "      <th>Brand_Orange</th>\n",
       "      <th>Brand_RealU</th>\n",
       "      <th>Brand_Sumsang</th>\n",
       "      <th>Brand_Vedic</th>\n",
       "      <th>Brand_Viva</th>\n",
       "      <th>Brand_YouM</th>\n",
       "      <th>BU_FMCG</th>\n",
       "      <th>BU_Lifestyle</th>\n",
       "      <th>BU_Mobiles</th>\n",
       "    </tr>\n",
       "  </thead>\n",
       "  <tbody>\n",
       "    <tr>\n",
       "      <th>0</th>\n",
       "      <td>False</td>\n",
       "      <td>False</td>\n",
       "      <td>False</td>\n",
       "      <td>False</td>\n",
       "      <td>True</td>\n",
       "      <td>False</td>\n",
       "      <td>False</td>\n",
       "      <td>True</td>\n",
       "      <td>False</td>\n",
       "      <td>False</td>\n",
       "      <td>...</td>\n",
       "      <td>False</td>\n",
       "      <td>False</td>\n",
       "      <td>True</td>\n",
       "      <td>False</td>\n",
       "      <td>False</td>\n",
       "      <td>False</td>\n",
       "      <td>False</td>\n",
       "      <td>False</td>\n",
       "      <td>False</td>\n",
       "      <td>True</td>\n",
       "    </tr>\n",
       "    <tr>\n",
       "      <th>1</th>\n",
       "      <td>False</td>\n",
       "      <td>False</td>\n",
       "      <td>False</td>\n",
       "      <td>False</td>\n",
       "      <td>True</td>\n",
       "      <td>False</td>\n",
       "      <td>False</td>\n",
       "      <td>True</td>\n",
       "      <td>False</td>\n",
       "      <td>False</td>\n",
       "      <td>...</td>\n",
       "      <td>False</td>\n",
       "      <td>False</td>\n",
       "      <td>True</td>\n",
       "      <td>False</td>\n",
       "      <td>False</td>\n",
       "      <td>False</td>\n",
       "      <td>False</td>\n",
       "      <td>False</td>\n",
       "      <td>False</td>\n",
       "      <td>True</td>\n",
       "    </tr>\n",
       "    <tr>\n",
       "      <th>2</th>\n",
       "      <td>False</td>\n",
       "      <td>False</td>\n",
       "      <td>False</td>\n",
       "      <td>False</td>\n",
       "      <td>True</td>\n",
       "      <td>False</td>\n",
       "      <td>False</td>\n",
       "      <td>True</td>\n",
       "      <td>False</td>\n",
       "      <td>False</td>\n",
       "      <td>...</td>\n",
       "      <td>False</td>\n",
       "      <td>False</td>\n",
       "      <td>False</td>\n",
       "      <td>False</td>\n",
       "      <td>False</td>\n",
       "      <td>False</td>\n",
       "      <td>True</td>\n",
       "      <td>False</td>\n",
       "      <td>False</td>\n",
       "      <td>True</td>\n",
       "    </tr>\n",
       "    <tr>\n",
       "      <th>3</th>\n",
       "      <td>False</td>\n",
       "      <td>False</td>\n",
       "      <td>False</td>\n",
       "      <td>False</td>\n",
       "      <td>True</td>\n",
       "      <td>False</td>\n",
       "      <td>False</td>\n",
       "      <td>True</td>\n",
       "      <td>False</td>\n",
       "      <td>False</td>\n",
       "      <td>...</td>\n",
       "      <td>False</td>\n",
       "      <td>False</td>\n",
       "      <td>False</td>\n",
       "      <td>False</td>\n",
       "      <td>False</td>\n",
       "      <td>False</td>\n",
       "      <td>True</td>\n",
       "      <td>False</td>\n",
       "      <td>False</td>\n",
       "      <td>True</td>\n",
       "    </tr>\n",
       "    <tr>\n",
       "      <th>4</th>\n",
       "      <td>False</td>\n",
       "      <td>False</td>\n",
       "      <td>False</td>\n",
       "      <td>False</td>\n",
       "      <td>True</td>\n",
       "      <td>False</td>\n",
       "      <td>False</td>\n",
       "      <td>True</td>\n",
       "      <td>False</td>\n",
       "      <td>False</td>\n",
       "      <td>...</td>\n",
       "      <td>False</td>\n",
       "      <td>False</td>\n",
       "      <td>False</td>\n",
       "      <td>False</td>\n",
       "      <td>False</td>\n",
       "      <td>False</td>\n",
       "      <td>True</td>\n",
       "      <td>False</td>\n",
       "      <td>False</td>\n",
       "      <td>True</td>\n",
       "    </tr>\n",
       "    <tr>\n",
       "      <th>...</th>\n",
       "      <td>...</td>\n",
       "      <td>...</td>\n",
       "      <td>...</td>\n",
       "      <td>...</td>\n",
       "      <td>...</td>\n",
       "      <td>...</td>\n",
       "      <td>...</td>\n",
       "      <td>...</td>\n",
       "      <td>...</td>\n",
       "      <td>...</td>\n",
       "      <td>...</td>\n",
       "      <td>...</td>\n",
       "      <td>...</td>\n",
       "      <td>...</td>\n",
       "      <td>...</td>\n",
       "      <td>...</td>\n",
       "      <td>...</td>\n",
       "      <td>...</td>\n",
       "      <td>...</td>\n",
       "      <td>...</td>\n",
       "      <td>...</td>\n",
       "    </tr>\n",
       "    <tr>\n",
       "      <th>445</th>\n",
       "      <td>False</td>\n",
       "      <td>False</td>\n",
       "      <td>False</td>\n",
       "      <td>False</td>\n",
       "      <td>True</td>\n",
       "      <td>False</td>\n",
       "      <td>False</td>\n",
       "      <td>True</td>\n",
       "      <td>False</td>\n",
       "      <td>False</td>\n",
       "      <td>...</td>\n",
       "      <td>True</td>\n",
       "      <td>False</td>\n",
       "      <td>False</td>\n",
       "      <td>False</td>\n",
       "      <td>False</td>\n",
       "      <td>False</td>\n",
       "      <td>False</td>\n",
       "      <td>False</td>\n",
       "      <td>True</td>\n",
       "      <td>False</td>\n",
       "    </tr>\n",
       "    <tr>\n",
       "      <th>446</th>\n",
       "      <td>False</td>\n",
       "      <td>False</td>\n",
       "      <td>False</td>\n",
       "      <td>False</td>\n",
       "      <td>True</td>\n",
       "      <td>False</td>\n",
       "      <td>False</td>\n",
       "      <td>True</td>\n",
       "      <td>False</td>\n",
       "      <td>False</td>\n",
       "      <td>...</td>\n",
       "      <td>False</td>\n",
       "      <td>False</td>\n",
       "      <td>False</td>\n",
       "      <td>False</td>\n",
       "      <td>False</td>\n",
       "      <td>True</td>\n",
       "      <td>False</td>\n",
       "      <td>False</td>\n",
       "      <td>True</td>\n",
       "      <td>False</td>\n",
       "    </tr>\n",
       "    <tr>\n",
       "      <th>447</th>\n",
       "      <td>False</td>\n",
       "      <td>False</td>\n",
       "      <td>False</td>\n",
       "      <td>False</td>\n",
       "      <td>True</td>\n",
       "      <td>False</td>\n",
       "      <td>False</td>\n",
       "      <td>True</td>\n",
       "      <td>False</td>\n",
       "      <td>False</td>\n",
       "      <td>...</td>\n",
       "      <td>False</td>\n",
       "      <td>False</td>\n",
       "      <td>False</td>\n",
       "      <td>False</td>\n",
       "      <td>False</td>\n",
       "      <td>True</td>\n",
       "      <td>False</td>\n",
       "      <td>False</td>\n",
       "      <td>True</td>\n",
       "      <td>False</td>\n",
       "    </tr>\n",
       "    <tr>\n",
       "      <th>448</th>\n",
       "      <td>False</td>\n",
       "      <td>False</td>\n",
       "      <td>False</td>\n",
       "      <td>False</td>\n",
       "      <td>True</td>\n",
       "      <td>False</td>\n",
       "      <td>False</td>\n",
       "      <td>True</td>\n",
       "      <td>False</td>\n",
       "      <td>False</td>\n",
       "      <td>...</td>\n",
       "      <td>True</td>\n",
       "      <td>False</td>\n",
       "      <td>False</td>\n",
       "      <td>False</td>\n",
       "      <td>False</td>\n",
       "      <td>False</td>\n",
       "      <td>False</td>\n",
       "      <td>False</td>\n",
       "      <td>True</td>\n",
       "      <td>False</td>\n",
       "    </tr>\n",
       "    <tr>\n",
       "      <th>449</th>\n",
       "      <td>False</td>\n",
       "      <td>False</td>\n",
       "      <td>False</td>\n",
       "      <td>False</td>\n",
       "      <td>True</td>\n",
       "      <td>False</td>\n",
       "      <td>False</td>\n",
       "      <td>True</td>\n",
       "      <td>False</td>\n",
       "      <td>False</td>\n",
       "      <td>...</td>\n",
       "      <td>True</td>\n",
       "      <td>False</td>\n",
       "      <td>False</td>\n",
       "      <td>False</td>\n",
       "      <td>False</td>\n",
       "      <td>False</td>\n",
       "      <td>False</td>\n",
       "      <td>False</td>\n",
       "      <td>True</td>\n",
       "      <td>False</td>\n",
       "    </tr>\n",
       "  </tbody>\n",
       "</table>\n",
       "<p>450 rows × 50 columns</p>\n",
       "</div>"
      ],
      "text/plain": [
       "     Day_Friday  Day_Monday  Day_Saturday  Day_Sunday  Day_Thursday  \\\n",
       "0         False       False         False       False          True   \n",
       "1         False       False         False       False          True   \n",
       "2         False       False         False       False          True   \n",
       "3         False       False         False       False          True   \n",
       "4         False       False         False       False          True   \n",
       "..          ...         ...           ...         ...           ...   \n",
       "445       False       False         False       False          True   \n",
       "446       False       False         False       False          True   \n",
       "447       False       False         False       False          True   \n",
       "448       False       False         False       False          True   \n",
       "449       False       False         False       False          True   \n",
       "\n",
       "     Day_Tuesday  Day_Wednesday  City_C  SKU_F01  SKU_F02  ...  Brand_Jeera  \\\n",
       "0          False          False    True    False    False  ...        False   \n",
       "1          False          False    True    False    False  ...        False   \n",
       "2          False          False    True    False    False  ...        False   \n",
       "3          False          False    True    False    False  ...        False   \n",
       "4          False          False    True    False    False  ...        False   \n",
       "..           ...            ...     ...      ...      ...  ...          ...   \n",
       "445        False          False    True    False    False  ...         True   \n",
       "446        False          False    True    False    False  ...        False   \n",
       "447        False          False    True    False    False  ...        False   \n",
       "448        False          False    True    False    False  ...         True   \n",
       "449        False          False    True    False    False  ...         True   \n",
       "\n",
       "     Brand_Orange  Brand_RealU  Brand_Sumsang  Brand_Vedic  Brand_Viva  \\\n",
       "0           False         True          False        False       False   \n",
       "1           False         True          False        False       False   \n",
       "2           False        False          False        False       False   \n",
       "3           False        False          False        False       False   \n",
       "4           False        False          False        False       False   \n",
       "..            ...          ...            ...          ...         ...   \n",
       "445         False        False          False        False       False   \n",
       "446         False        False          False        False        True   \n",
       "447         False        False          False        False        True   \n",
       "448         False        False          False        False       False   \n",
       "449         False        False          False        False       False   \n",
       "\n",
       "     Brand_YouM  BU_FMCG  BU_Lifestyle  BU_Mobiles  \n",
       "0         False    False         False        True  \n",
       "1         False    False         False        True  \n",
       "2          True    False         False        True  \n",
       "3          True    False         False        True  \n",
       "4          True    False         False        True  \n",
       "..          ...      ...           ...         ...  \n",
       "445       False    False          True       False  \n",
       "446       False    False          True       False  \n",
       "447       False    False          True       False  \n",
       "448       False    False          True       False  \n",
       "449       False    False          True       False  \n",
       "\n",
       "[450 rows x 50 columns]"
      ]
     },
     "execution_count": 36,
     "metadata": {},
     "output_type": "execute_result"
    }
   ],
   "source": [
    "# columns_name = ['Day','City','SKU','Brand','BU']\n",
    "encoded_df = pd.get_dummies(df[['Day','City','SKU','Brand','BU']])\n",
    "encoded_df "
   ]
  },
  {
   "cell_type": "code",
   "execution_count": null,
   "id": "b9057e91-1be5-4c75-a1b5-b2239c67969b",
   "metadata": {},
   "outputs": [],
   "source": [
    "# since machine learning algorithms widely use data that are in numerical format so \n",
    "# it create un uniform type of data where some columns are numerical and other are categorical\n",
    "# also it help in conversion without haraming the relationship of the column values to each other"
   ]
  }
 ],
 "metadata": {
  "kernelspec": {
   "display_name": "Python 3 (ipykernel)",
   "language": "python",
   "name": "python3"
  },
  "language_info": {
   "codemirror_mode": {
    "name": "ipython",
    "version": 3
   },
   "file_extension": ".py",
   "mimetype": "text/x-python",
   "name": "python",
   "nbconvert_exporter": "python",
   "pygments_lexer": "ipython3",
   "version": "3.11.7"
  }
 },
 "nbformat": 4,
 "nbformat_minor": 5
}
